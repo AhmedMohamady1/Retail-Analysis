{
 "cells": [
  {
   "cell_type": "code",
   "execution_count": 6,
   "id": "5ac48d7d-d0eb-4a64-be06-dd58cce5041e",
   "metadata": {},
   "outputs": [],
   "source": [
    "# Importing the Libraries we'll need\n",
    "import pandas as pd\n",
    "import numpy as np\n",
    "import matplotlib.pyplot as plt \n",
    "import seaborn as sns"
   ]
  },
  {
   "cell_type": "markdown",
   "id": "187ed7a3-a21f-4e17-a089-63fe3e40229b",
   "metadata": {},
   "source": [
    "1.\tPerform exploratory data analysis "
   ]
  },
  {
   "cell_type": "markdown",
   "id": "1a03a3e6-6c1f-4bd0-b31c-58bbbb6c06ee",
   "metadata": {},
   "source": [
    "a) Import data"
   ]
  },
  {
   "cell_type": "code",
   "execution_count": 7,
   "id": "97527200-08a6-4128-9023-ad6e3f4191c5",
   "metadata": {},
   "outputs": [],
   "source": [
    "# Importing the sales data\n",
    "data=pd.read_csv(\"walmart-sales-dataset-of-45stores.csv\")"
   ]
  },
  {
   "cell_type": "markdown",
   "id": "a7c29792-f0ae-455e-b65b-747396684116",
   "metadata": {},
   "source": [
    "b) Display data"
   ]
  },
  {
   "cell_type": "code",
   "execution_count": 8,
   "id": "bf0c73be-a7e1-45d6-808a-c54eec0ee692",
   "metadata": {},
   "outputs": [
    {
     "data": {
      "text/html": [
       "<div>\n",
       "<style scoped>\n",
       "    .dataframe tbody tr th:only-of-type {\n",
       "        vertical-align: middle;\n",
       "    }\n",
       "\n",
       "    .dataframe tbody tr th {\n",
       "        vertical-align: top;\n",
       "    }\n",
       "\n",
       "    .dataframe thead th {\n",
       "        text-align: right;\n",
       "    }\n",
       "</style>\n",
       "<table border=\"1\" class=\"dataframe\">\n",
       "  <thead>\n",
       "    <tr style=\"text-align: right;\">\n",
       "      <th></th>\n",
       "      <th>Store</th>\n",
       "      <th>Date</th>\n",
       "      <th>Weekly_Sales</th>\n",
       "      <th>Holiday_Flag</th>\n",
       "      <th>Temperature</th>\n",
       "      <th>Fuel_Price</th>\n",
       "      <th>CPI</th>\n",
       "      <th>Unemployment</th>\n",
       "    </tr>\n",
       "  </thead>\n",
       "  <tbody>\n",
       "    <tr>\n",
       "      <th>0</th>\n",
       "      <td>1</td>\n",
       "      <td>05-02-2010</td>\n",
       "      <td>1643690.90</td>\n",
       "      <td>0</td>\n",
       "      <td>42.31</td>\n",
       "      <td>2.572</td>\n",
       "      <td>211.096358</td>\n",
       "      <td>8.106</td>\n",
       "    </tr>\n",
       "    <tr>\n",
       "      <th>1</th>\n",
       "      <td>1</td>\n",
       "      <td>12-02-2010</td>\n",
       "      <td>1641957.44</td>\n",
       "      <td>1</td>\n",
       "      <td>38.51</td>\n",
       "      <td>2.548</td>\n",
       "      <td>211.242170</td>\n",
       "      <td>8.106</td>\n",
       "    </tr>\n",
       "    <tr>\n",
       "      <th>2</th>\n",
       "      <td>1</td>\n",
       "      <td>19-02-2010</td>\n",
       "      <td>1611968.17</td>\n",
       "      <td>0</td>\n",
       "      <td>39.93</td>\n",
       "      <td>2.514</td>\n",
       "      <td>211.289143</td>\n",
       "      <td>8.106</td>\n",
       "    </tr>\n",
       "    <tr>\n",
       "      <th>3</th>\n",
       "      <td>1</td>\n",
       "      <td>26-02-2010</td>\n",
       "      <td>1409727.59</td>\n",
       "      <td>0</td>\n",
       "      <td>46.63</td>\n",
       "      <td>2.561</td>\n",
       "      <td>211.319643</td>\n",
       "      <td>8.106</td>\n",
       "    </tr>\n",
       "    <tr>\n",
       "      <th>4</th>\n",
       "      <td>1</td>\n",
       "      <td>05-03-2010</td>\n",
       "      <td>1554806.68</td>\n",
       "      <td>0</td>\n",
       "      <td>46.50</td>\n",
       "      <td>2.625</td>\n",
       "      <td>211.350143</td>\n",
       "      <td>8.106</td>\n",
       "    </tr>\n",
       "    <tr>\n",
       "      <th>...</th>\n",
       "      <td>...</td>\n",
       "      <td>...</td>\n",
       "      <td>...</td>\n",
       "      <td>...</td>\n",
       "      <td>...</td>\n",
       "      <td>...</td>\n",
       "      <td>...</td>\n",
       "      <td>...</td>\n",
       "    </tr>\n",
       "    <tr>\n",
       "      <th>6430</th>\n",
       "      <td>45</td>\n",
       "      <td>28-09-2012</td>\n",
       "      <td>713173.95</td>\n",
       "      <td>0</td>\n",
       "      <td>64.88</td>\n",
       "      <td>3.997</td>\n",
       "      <td>192.013558</td>\n",
       "      <td>8.684</td>\n",
       "    </tr>\n",
       "    <tr>\n",
       "      <th>6431</th>\n",
       "      <td>45</td>\n",
       "      <td>05-10-2012</td>\n",
       "      <td>733455.07</td>\n",
       "      <td>0</td>\n",
       "      <td>64.89</td>\n",
       "      <td>3.985</td>\n",
       "      <td>192.170412</td>\n",
       "      <td>8.667</td>\n",
       "    </tr>\n",
       "    <tr>\n",
       "      <th>6432</th>\n",
       "      <td>45</td>\n",
       "      <td>12-10-2012</td>\n",
       "      <td>734464.36</td>\n",
       "      <td>0</td>\n",
       "      <td>54.47</td>\n",
       "      <td>4.000</td>\n",
       "      <td>192.327265</td>\n",
       "      <td>8.667</td>\n",
       "    </tr>\n",
       "    <tr>\n",
       "      <th>6433</th>\n",
       "      <td>45</td>\n",
       "      <td>19-10-2012</td>\n",
       "      <td>718125.53</td>\n",
       "      <td>0</td>\n",
       "      <td>56.47</td>\n",
       "      <td>3.969</td>\n",
       "      <td>192.330854</td>\n",
       "      <td>8.667</td>\n",
       "    </tr>\n",
       "    <tr>\n",
       "      <th>6434</th>\n",
       "      <td>45</td>\n",
       "      <td>26-10-2012</td>\n",
       "      <td>760281.43</td>\n",
       "      <td>0</td>\n",
       "      <td>58.85</td>\n",
       "      <td>3.882</td>\n",
       "      <td>192.308899</td>\n",
       "      <td>8.667</td>\n",
       "    </tr>\n",
       "  </tbody>\n",
       "</table>\n",
       "<p>6435 rows × 8 columns</p>\n",
       "</div>"
      ],
      "text/plain": [
       "      Store        Date  Weekly_Sales  Holiday_Flag  Temperature  Fuel_Price  \\\n",
       "0         1  05-02-2010    1643690.90             0        42.31       2.572   \n",
       "1         1  12-02-2010    1641957.44             1        38.51       2.548   \n",
       "2         1  19-02-2010    1611968.17             0        39.93       2.514   \n",
       "3         1  26-02-2010    1409727.59             0        46.63       2.561   \n",
       "4         1  05-03-2010    1554806.68             0        46.50       2.625   \n",
       "...     ...         ...           ...           ...          ...         ...   \n",
       "6430     45  28-09-2012     713173.95             0        64.88       3.997   \n",
       "6431     45  05-10-2012     733455.07             0        64.89       3.985   \n",
       "6432     45  12-10-2012     734464.36             0        54.47       4.000   \n",
       "6433     45  19-10-2012     718125.53             0        56.47       3.969   \n",
       "6434     45  26-10-2012     760281.43             0        58.85       3.882   \n",
       "\n",
       "             CPI  Unemployment  \n",
       "0     211.096358         8.106  \n",
       "1     211.242170         8.106  \n",
       "2     211.289143         8.106  \n",
       "3     211.319643         8.106  \n",
       "4     211.350143         8.106  \n",
       "...          ...           ...  \n",
       "6430  192.013558         8.684  \n",
       "6431  192.170412         8.667  \n",
       "6432  192.327265         8.667  \n",
       "6433  192.330854         8.667  \n",
       "6434  192.308899         8.667  \n",
       "\n",
       "[6435 rows x 8 columns]"
      ]
     },
     "execution_count": 8,
     "metadata": {},
     "output_type": "execute_result"
    }
   ],
   "source": [
    "# Displaying data\n",
    "data"
   ]
  },
  {
   "cell_type": "markdown",
   "id": "48fcf988-5c0c-482b-bc67-2ab24da8998d",
   "metadata": {},
   "source": [
    "c) Visualize quantitative variables distributions "
   ]
  },
  {
   "cell_type": "code",
   "execution_count": 9,
   "id": "ecefc337-6e26-402b-bff0-5e32db740c94",
   "metadata": {},
   "outputs": [
    {
     "data": {
      "image/png": "[encoded data removed]",
      "text/plain": [
       "<Figure size 800x600 with 1 Axes>"
      ]
     },
     "metadata": {},
     "output_type": "display_data"
    },
    {
     "data": {
      "image/png": "[encoded data removed]",
      "text/plain": [
       "<Figure size 800x600 with 1 Axes>"
      ]
     },
     "metadata": {},
     "output_type": "display_data"
    },
    {
     "data": {
      "image/png": "[encoded data removed]",
      "text/plain": [
       "<Figure size 800x600 with 1 Axes>"
      ]
     },
     "metadata": {},
     "output_type": "display_data"
    },
    {
     "data": {
      "image/png": "[encoded data removed]",
      "text/plain": [
       "<Figure size 800x600 with 1 Axes>"
      ]
     },
     "metadata": {},
     "output_type": "display_data"
    },
    {
     "data": {
      "image/png": "[encoded data removed]",
      "text/plain": [
       "<Figure size 800x600 with 1 Axes>"
      ]
     },
     "metadata": {},
     "output_type": "display_data"
    }
   ],
   "source": [
    "# Define the quantitative variables\n",
    "quantitative_vars = ['Weekly_Sales', 'Temperature', 'Fuel_Price', 'CPI', 'Unemployment']\n",
    "\n",
    "# Plotting histograms for each quantitative variable\n",
    "for var in quantitative_vars:\n",
    "    plt.figure(figsize=(8, 6))\n",
    "    plt.hist(data[var], color='black',histtype='step',bins=50)\n",
    "    plt.xlabel(var)\n",
    "    plt.ylabel('Frequency')\n",
    "    plt.title(f'Distribution of {var}')\n",
    "    plt.show()"
   ]
  },
  {
   "cell_type": "markdown",
   "id": "71c10b16-7371-4220-8f1e-0efecab2be95",
   "metadata": {},
   "source": [
    "d)\tPerform data cleaning"
   ]
  },
  {
   "cell_type": "code",
   "execution_count": 10,
   "id": "53af2a68-5aaa-4064-99d1-2c93db95e2fd",
   "metadata": {},
   "outputs": [
    {
     "name": "stdout",
     "output_type": "stream",
     "text": [
      "Number of NA Rows: Store           0\n",
      "Date            0\n",
      "Weekly_Sales    0\n",
      "Holiday_Flag    0\n",
      "Temperature     0\n",
      "Fuel_Price      0\n",
      "CPI             0\n",
      "Unemployment    0\n",
      "dtype: int64\n",
      "Number of Duplicated Rows: 0\n"
     ]
    }
   ],
   "source": [
    "# Checking for Null Values\n",
    "print('Number of NA Rows:',data.isna().sum())\n",
    "\n",
    "# Checking for Duplicated Values\n",
    "print('Number of Duplicated Rows:',data.duplicated().sum())"
   ]
  },
  {
   "cell_type": "code",
   "execution_count": 11,
   "id": "dc9199aa-8064-4472-97ec-21fa3c5d5ecc",
   "metadata": {},
   "outputs": [],
   "source": [
    "# Converting the values in the Date Column to the Datetime datatype\n",
    "data['Date'] = pd.to_datetime(data['Date'],dayfirst=True)"
   ]
  },
  {
   "cell_type": "code",
   "execution_count": 12,
   "id": "dd9e854c-5c6e-464c-8d60-0a3909cd4b7b",
   "metadata": {},
   "outputs": [
    {
     "data": {
      "text/html": [
       "<div>\n",
       "<style scoped>\n",
       "    .dataframe tbody tr th:only-of-type {\n",
       "        vertical-align: middle;\n",
       "    }\n",
       "\n",
       "    .dataframe tbody tr th {\n",
       "        vertical-align: top;\n",
       "    }\n",
       "\n",
       "    .dataframe thead th {\n",
       "        text-align: right;\n",
       "    }\n",
       "</style>\n",
       "<table border=\"1\" class=\"dataframe\">\n",
       "  <thead>\n",
       "    <tr style=\"text-align: right;\">\n",
       "      <th></th>\n",
       "      <th>Store</th>\n",
       "      <th>Date</th>\n",
       "      <th>Weekly_Sales</th>\n",
       "      <th>Holiday_Flag</th>\n",
       "      <th>Temperature</th>\n",
       "      <th>Fuel_Price</th>\n",
       "      <th>CPI</th>\n",
       "      <th>Unemployment</th>\n",
       "    </tr>\n",
       "  </thead>\n",
       "  <tbody>\n",
       "    <tr>\n",
       "      <th>0</th>\n",
       "      <td>1</td>\n",
       "      <td>2010-02-05</td>\n",
       "      <td>1643690.90</td>\n",
       "      <td>0</td>\n",
       "      <td>42.31</td>\n",
       "      <td>2.572</td>\n",
       "      <td>211.096358</td>\n",
       "      <td>8.106</td>\n",
       "    </tr>\n",
       "    <tr>\n",
       "      <th>1</th>\n",
       "      <td>1</td>\n",
       "      <td>2010-02-12</td>\n",
       "      <td>1641957.44</td>\n",
       "      <td>1</td>\n",
       "      <td>38.51</td>\n",
       "      <td>2.548</td>\n",
       "      <td>211.242170</td>\n",
       "      <td>8.106</td>\n",
       "    </tr>\n",
       "    <tr>\n",
       "      <th>2</th>\n",
       "      <td>1</td>\n",
       "      <td>2010-02-19</td>\n",
       "      <td>1611968.17</td>\n",
       "      <td>0</td>\n",
       "      <td>39.93</td>\n",
       "      <td>2.514</td>\n",
       "      <td>211.289143</td>\n",
       "      <td>8.106</td>\n",
       "    </tr>\n",
       "    <tr>\n",
       "      <th>3</th>\n",
       "      <td>1</td>\n",
       "      <td>2010-02-26</td>\n",
       "      <td>1409727.59</td>\n",
       "      <td>0</td>\n",
       "      <td>46.63</td>\n",
       "      <td>2.561</td>\n",
       "      <td>211.319643</td>\n",
       "      <td>8.106</td>\n",
       "    </tr>\n",
       "    <tr>\n",
       "      <th>4</th>\n",
       "      <td>1</td>\n",
       "      <td>2010-03-05</td>\n",
       "      <td>1554806.68</td>\n",
       "      <td>0</td>\n",
       "      <td>46.50</td>\n",
       "      <td>2.625</td>\n",
       "      <td>211.350143</td>\n",
       "      <td>8.106</td>\n",
       "    </tr>\n",
       "    <tr>\n",
       "      <th>...</th>\n",
       "      <td>...</td>\n",
       "      <td>...</td>\n",
       "      <td>...</td>\n",
       "      <td>...</td>\n",
       "      <td>...</td>\n",
       "      <td>...</td>\n",
       "      <td>...</td>\n",
       "      <td>...</td>\n",
       "    </tr>\n",
       "    <tr>\n",
       "      <th>6430</th>\n",
       "      <td>45</td>\n",
       "      <td>2012-09-28</td>\n",
       "      <td>713173.95</td>\n",
       "      <td>0</td>\n",
       "      <td>64.88</td>\n",
       "      <td>3.997</td>\n",
       "      <td>192.013558</td>\n",
       "      <td>8.684</td>\n",
       "    </tr>\n",
       "    <tr>\n",
       "      <th>6431</th>\n",
       "      <td>45</td>\n",
       "      <td>2012-10-05</td>\n",
       "      <td>733455.07</td>\n",
       "      <td>0</td>\n",
       "      <td>64.89</td>\n",
       "      <td>3.985</td>\n",
       "      <td>192.170412</td>\n",
       "      <td>8.667</td>\n",
       "    </tr>\n",
       "    <tr>\n",
       "      <th>6432</th>\n",
       "      <td>45</td>\n",
       "      <td>2012-10-12</td>\n",
       "      <td>734464.36</td>\n",
       "      <td>0</td>\n",
       "      <td>54.47</td>\n",
       "      <td>4.000</td>\n",
       "      <td>192.327265</td>\n",
       "      <td>8.667</td>\n",
       "    </tr>\n",
       "    <tr>\n",
       "      <th>6433</th>\n",
       "      <td>45</td>\n",
       "      <td>2012-10-19</td>\n",
       "      <td>718125.53</td>\n",
       "      <td>0</td>\n",
       "      <td>56.47</td>\n",
       "      <td>3.969</td>\n",
       "      <td>192.330854</td>\n",
       "      <td>8.667</td>\n",
       "    </tr>\n",
       "    <tr>\n",
       "      <th>6434</th>\n",
       "      <td>45</td>\n",
       "      <td>2012-10-26</td>\n",
       "      <td>760281.43</td>\n",
       "      <td>0</td>\n",
       "      <td>58.85</td>\n",
       "      <td>3.882</td>\n",
       "      <td>192.308899</td>\n",
       "      <td>8.667</td>\n",
       "    </tr>\n",
       "  </tbody>\n",
       "</table>\n",
       "<p>6435 rows × 8 columns</p>\n",
       "</div>"
      ],
      "text/plain": [
       "      Store       Date  Weekly_Sales  Holiday_Flag  Temperature  Fuel_Price  \\\n",
       "0         1 2010-02-05    1643690.90             0        42.31       2.572   \n",
       "1         1 2010-02-12    1641957.44             1        38.51       2.548   \n",
       "2         1 2010-02-19    1611968.17             0        39.93       2.514   \n",
       "3         1 2010-02-26    1409727.59             0        46.63       2.561   \n",
       "4         1 2010-03-05    1554806.68             0        46.50       2.625   \n",
       "...     ...        ...           ...           ...          ...         ...   \n",
       "6430     45 2012-09-28     713173.95             0        64.88       3.997   \n",
       "6431     45 2012-10-05     733455.07             0        64.89       3.985   \n",
       "6432     45 2012-10-12     734464.36             0        54.47       4.000   \n",
       "6433     45 2012-10-19     718125.53             0        56.47       3.969   \n",
       "6434     45 2012-10-26     760281.43             0        58.85       3.882   \n",
       "\n",
       "             CPI  Unemployment  \n",
       "0     211.096358         8.106  \n",
       "1     211.242170         8.106  \n",
       "2     211.289143         8.106  \n",
       "3     211.319643         8.106  \n",
       "4     211.350143         8.106  \n",
       "...          ...           ...  \n",
       "6430  192.013558         8.684  \n",
       "6431  192.170412         8.667  \n",
       "6432  192.327265         8.667  \n",
       "6433  192.330854         8.667  \n",
       "6434  192.308899         8.667  \n",
       "\n",
       "[6435 rows x 8 columns]"
      ]
     },
     "execution_count": 12,
     "metadata": {},
     "output_type": "execute_result"
    }
   ],
   "source": [
    "data"
   ]
  },
  {
   "cell_type": "markdown",
   "id": "0e980dd1-e29d-406e-ac73-6efa58cde3f1",
   "metadata": {},
   "source": [
    "2.\tAnswer the following questions:"
   ]
  },
  {
   "cell_type": "markdown",
   "id": "7aa18619-c356-4c7c-b9a7-5a979dbcaef2",
   "metadata": {},
   "source": [
    "a)\tWhich store has maximum sales?"
   ]
  },
  {
   "cell_type": "code",
   "execution_count": 13,
   "id": "1678dc4d-b6bb-4ed6-b68b-370db2e147e0",
   "metadata": {},
   "outputs": [],
   "source": [
    "# Calculating the sum of weekly sales for each store\n",
    "store_sum_of_sales= data.groupby(\"Store\").agg({\"Weekly_Sales\": lambda price: price.sum().round()})\n",
    "store_sum_of_sales.columns=['Sum of Sales']"
   ]
  },
  {
   "cell_type": "code",
   "execution_count": 14,
   "id": "2b0943ac-f32c-4abb-a6f1-0ed35c6e4fcc",
   "metadata": {},
   "outputs": [
    {
     "name": "stdout",
     "output_type": "stream",
     "text": [
      "       Sum of Sales\n",
      "Store              \n",
      "20      301397792.0\n",
      "4       299543953.0\n",
      "14      288999911.0\n",
      "13      286517704.0\n",
      "2       275382441.0\n",
      "10      271617714.0\n",
      "27      253855917.0\n",
      "6       223756131.0\n",
      "1       222402809.0\n",
      "39      207445542.0\n",
      "19      206634862.0\n",
      "31      199613906.0\n",
      "23      198750618.0\n",
      "24      194016021.0\n",
      "11      193962787.0\n",
      "28      189263681.0\n",
      "41      181341935.0\n",
      "32      166819246.0\n",
      "18      155114734.0\n",
      "22      147075649.0\n",
      "12      144287230.0\n",
      "26      143416394.0\n",
      "34      138249763.0\n",
      "40      137870310.0\n",
      "35      131520672.0\n",
      "8       129951181.0\n",
      "17      127782139.0\n",
      "45      112395341.0\n",
      "21      108117879.0\n",
      "25      101061179.0\n",
      "43       90565435.0\n",
      "15       89133684.0\n",
      "7        81598275.0\n",
      "42       79565752.0\n",
      "9        77789219.0\n",
      "29       77141554.0\n",
      "16       74252425.0\n",
      "37       74202740.0\n",
      "30       62716885.0\n",
      "3        57586735.0\n",
      "38       55159626.0\n",
      "36       53412215.0\n",
      "5        45475689.0\n",
      "44       43293088.0\n",
      "33       37160222.0\n"
     ]
    }
   ],
   "source": [
    "# Printing the Total Sales Data for each store in descending order\n",
    "print(store_sum_of_sales.sort_values(by='Sum of Sales',ascending=False))"
   ]
  },
  {
   "cell_type": "code",
   "execution_count": 15,
   "id": "aff8a36e-1a3f-47a0-a273-24fdc182a96e",
   "metadata": {},
   "outputs": [
    {
     "ename": "NameError",
     "evalue": "name 'sum_of_sales' is not defined",
     "output_type": "error",
     "traceback": [
      "\u001b[1;31m---------------------------------------------------------------------------\u001b[0m",
      "\u001b[1;31mNameError\u001b[0m                                 Traceback (most recent call last)",
      "Cell \u001b[1;32mIn[15], line 2\u001b[0m\n\u001b[0;32m      1\u001b[0m \u001b[38;5;66;03m# Get the store numbers\u001b[39;00m\n\u001b[1;32m----> 2\u001b[0m store_numbers \u001b[38;5;241m=\u001b[39m \u001b[38;5;28mlist\u001b[39m(\u001b[38;5;28mrange\u001b[39m(\u001b[38;5;241m1\u001b[39m, \u001b[38;5;28mlen\u001b[39m(\u001b[43msum_of_sales\u001b[49m) \u001b[38;5;241m+\u001b[39m \u001b[38;5;241m1\u001b[39m))\n\u001b[0;32m      4\u001b[0m \u001b[38;5;66;03m# Plotting\u001b[39;00m\n\u001b[0;32m      5\u001b[0m plt\u001b[38;5;241m.\u001b[39mfigure(figsize\u001b[38;5;241m=\u001b[39m(\u001b[38;5;241m15\u001b[39m, \u001b[38;5;241m6\u001b[39m))\n",
      "\u001b[1;31mNameError\u001b[0m: name 'sum_of_sales' is not defined"
     ]
    }
   ],
   "source": [
    "# Get the store numbers\n",
    "store_numbers = list(range(1, len(sum_of_sales) + 1))\n",
    "\n",
    "# Plotting\n",
    "plt.figure(figsize=(15, 6))\n",
    "plt.bar(store_numbers, store_sum_of_sales['Sum of Sales']/1000000, color='goldenrod', width=0.4)\n",
    "plt.xlabel(\"Store Numbers\")\n",
    "plt.ylabel(\"Cumulative Sales in Millions\")\n",
    "plt.title(\"Cumulative Sales for Each Store\")\n",
    "plt.grid(True)\n",
    "\n",
    "# Customize x-axis ticks\n",
    "plt.xticks(store_numbers)\n",
    "\n",
    "plt.show()\n",
    "# From the data and the graph we can see that the store with the highest sales is 29"
   ]
  },
  {
   "cell_type": "markdown",
   "id": "30890058-98a0-47f0-a1ad-fd2e64c3d58e",
   "metadata": {},
   "source": [
    "b)\tWhich store has maximum standard deviation i.e., the sales vary a lot"
   ]
  },
  {
   "cell_type": "code",
   "execution_count": null,
   "id": "c485bcdc-1e9c-4a2a-bbd3-4248fc9a6832",
   "metadata": {},
   "outputs": [],
   "source": [
    "# Calculating the standard deviation of weekly sales for each store\n",
    "std_of_sales= data.groupby(\"Store\").agg({\"Weekly_Sales\": lambda std: std.std().round(3)})\n",
    "std_of_sales.columns=['Standard Deviation of Sales']"
   ]
  },
  {
   "cell_type": "code",
   "execution_count": null,
   "id": "6bc30e82-ec09-4782-b3f7-16e241042da2",
   "metadata": {},
   "outputs": [],
   "source": [
    "# Printing the Standard Deviation Data for each store in descending order\n",
    "print(std_of_sales.sort_values(by='Standard Deviation of Sales',ascending=False))"
   ]
  },
  {
   "cell_type": "code",
   "execution_count": null,
   "id": "e69aa071-70a8-4c1d-8058-547357a98edd",
   "metadata": {},
   "outputs": [],
   "source": [
    "# Plotting\n",
    "plt.figure(figsize=(15, 6))\n",
    "plt.bar(store_numbers,std_of_sales['Standard Deviation of Sales']/1000, color ='maroon', width = 0.4)\n",
    "plt.xlabel(\"Store Numbers\")\n",
    "plt.ylabel(\"Standard Deviation in Thousands\")\n",
    "plt.title(\"Standard Deviation of Sales for Each Store\")\n",
    "plt.grid(True)\n",
    "\n",
    "# Customize x-axis ticks\n",
    "plt.xticks(store_numbers)\n",
    "\n",
    "plt.show()\n",
    "\n",
    "# From the data and the graph we can see that the store with the highest standard deviation is 14"
   ]
  },
  {
   "cell_type": "markdown",
   "id": "bded447d-9c8b-46ae-8945-8ff3fb12e56f",
   "metadata": {},
   "source": [
    "c)\tSome holidays have a negative impact on sales.\n",
    "    Find out holidays that have higher sales than the mean sales in the non-holiday season for all stores together."
   ]
  },
  {
   "cell_type": "code",
   "execution_count": null,
   "id": "622b8d79-d53f-4107-a5ad-98b63313e634",
   "metadata": {},
   "outputs": [],
   "source": [
    "# Getting the holiday dates\n",
    "holidays=[]\n",
    "i=0\n",
    "while data['Store'].iloc[i]==1: # Iterating through the first store only to avoid duplication\n",
    "    if data['Holiday_Flag'].iloc[i]==1:\n",
    "        holidays.append(data['Date'].iloc[i])\n",
    "    i+=1\n",
    "holidays"
   ]
  },
  {
   "cell_type": "code",
   "execution_count": null,
   "id": "80bb49d3-64e1-4dc1-bfd4-0c9b69d9ad9c",
   "metadata": {},
   "outputs": [],
   "source": [
    "# Looking up the events of the holiday and adding them\n",
    "super_bowl=pd.to_datetime(['2010-02-12 00:00:00','2011-02-11 00:00:00','2012-02-10 00:00:00'])\n",
    "labor_day=pd.to_datetime(['2010-09-10 00:00:00','2011-09-09 00:00:00','2012-09-07 00:00:00'])\n",
    "thanksgiving=pd.to_datetime(['2010-11-26 00:00:00','2011-11-25 00:00:00'])\n",
    "christmas=pd.to_datetime(['2010-12-31 00:00:00','2011-12-30 00:00:00'])\n",
    "\n",
    "# Calculating the mean of sales for each holiday\n",
    "super_bowl_sales = data.loc[data['Date'].isin(super_bowl)]['Weekly_Sales'].mean().round(3)\n",
    "labor_day_sales = data.loc[data['Date'].isin(labor_day)]['Weekly_Sales'].mean().round(3)\n",
    "thanksgiving_sales = data.loc[data['Date'].isin(thanksgiving)]['Weekly_Sales'].mean().round(3)\n",
    "christmas_sales = data.loc[data['Date'].isin(christmas)]['Weekly_Sales'].mean().round(3)\n",
    "\n",
    "# Calculating the mean of sales for non-holiday season\n",
    "non_holiday_sales = data.loc[data['Holiday_Flag']==0]['Weekly_Sales'].mean().round(3)"
   ]
  },
  {
   "cell_type": "code",
   "execution_count": null,
   "id": "d2856d3f-de1f-4ccd-aca6-7d856f2b63e9",
   "metadata": {},
   "outputs": [],
   "source": [
    "# Making a series to compare the results\n",
    "comparison = pd.Series({'Super Bowl': super_bowl_sales,\n",
    "                            'Labor Day': labor_day_sales,\n",
    "                            'Thanksgiving': thanksgiving_sales,\n",
    "                            'Christmas': christmas_sales,\n",
    "                            'Non-Holiday': non_holiday_sales})\n",
    "\n",
    "# Plotting the comparison\n",
    "plt.figure(figsize=(12, 6))\n",
    "plt.bar(comparison.keys(),comparison/1000, color ='darkslateblue', width = 0.4)\n",
    "plt.xlabel(\"Sales\")\n",
    "plt.ylabel(\"Mean of Sales in Thousands\")\n",
    "plt.title(\" Mean of Holiday vs Non-Holiday Sales\")\n",
    "plt.grid(True)\n",
    "\n",
    "plt.show()"
   ]
  },
  {
   "cell_type": "markdown",
   "id": "a9158aaa-4e54-4277-8abe-1f1303b78308",
   "metadata": {},
   "source": [
    "d)\tProvide a monthly and semester view of sales in units and give insights."
   ]
  },
  {
   "cell_type": "code",
   "execution_count": null,
   "id": "9f7d2de6-23e6-4a65-a700-d9286e8607b2",
   "metadata": {},
   "outputs": [],
   "source": [
    "# Filter data for the year 2010, 2011 and 2012\n",
    "data_2010 = data[data['Date'].dt.year == 2010]\n",
    "data_2011 = data[data['Date'].dt.year == 2011]\n",
    "data_2012 = data[data['Date'].dt.year == 2012]\n",
    "\n",
    "# Group by month and sum weekly sales for the year 2010, 2011 and 2012\n",
    "monthly_sales_2010 = data_2010.groupby(data_2010['Date'].dt.strftime('%B'))['Weekly_Sales'].sum().round()\n",
    "monthly_sales_2011 = data_2011.groupby(data_2011['Date'].dt.strftime('%B'))['Weekly_Sales'].sum().round()\n",
    "monthly_sales_2012 = data_2012.groupby(data_2012['Date'].dt.strftime('%B'))['Weekly_Sales'].sum().round()\n",
    "\n",
    "# Ordering the data from January to December\n",
    "# Define the order of months\n",
    "months_order = ['January', 'February', 'March', 'April', 'May', 'June', 'July', 'August', 'September', 'October', 'November', 'December']\n",
    "\n",
    "# Rearrange the DataFrame index based on months_order\n",
    "monthly_sales_2010 = monthly_sales_2010.reindex(months_order)\n",
    "monthly_sales_2011 = monthly_sales_2011.reindex(months_order)\n",
    "monthly_sales_2012 = monthly_sales_2012.reindex(months_order)"
   ]
  },
  {
   "cell_type": "code",
   "execution_count": null,
   "id": "d1bef126-059b-468d-93c3-b0d5ca5f2911",
   "metadata": {},
   "outputs": [],
   "source": [
    "# Set the width of the bars\n",
    "bar_width = 0.25\n",
    "\n",
    "# Set the positions of the bars on the x-axis\n",
    "r1 = np.arange(len(months_order))\n",
    "r2 = [x + bar_width for x in r1]\n",
    "r3 = [x + bar_width for x in r2]\n",
    "\n",
    "# Plotting\n",
    "plt.figure(figsize=(12, 6))\n",
    "plt.bar(r1, monthly_sales_2010 / 1000000, color='skyblue', width=bar_width, edgecolor='black', label='2010')\n",
    "plt.bar(r2, monthly_sales_2011 / 1000000, color='salmon', width=bar_width, edgecolor='black', label='2011')\n",
    "plt.bar(r3, monthly_sales_2012 / 1000000, color='lightgreen', width=bar_width, edgecolor='black', label='2012')\n",
    "\n",
    "# Add xticks on the middle of the group bars\n",
    "plt.xlabel('Month')\n",
    "plt.xticks([r + bar_width for r in range(len(months_order))], months_order)\n",
    "\n",
    "plt.ylabel('Monthly Sales in Millions')\n",
    "plt.title('Monthly Sales Comparison (2010-2012)')\n",
    "plt.legend()\n",
    "\n",
    "plt.show()"
   ]
  },
  {
   "cell_type": "code",
   "execution_count": null,
   "id": "7f9f251b-1478-4e1f-a7e6-ec93a9972387",
   "metadata": {},
   "outputs": [],
   "source": [
    "# Providing a semester view of sales for years (2010-2012)\n",
    "semester_sales_2010=pd.Series([monthly_sales_2010.iloc[0:6].sum(),monthly_sales_2010.iloc[6:12].sum()])\n",
    "semester_sales_2011=pd.Series([monthly_sales_2011.iloc[0:6].sum(),monthly_sales_2011.iloc[6:12].sum()])\n",
    "semester_sales_2012=pd.Series([monthly_sales_2012.iloc[0:6].sum(),monthly_sales_2012.iloc[6:12].sum()])\n",
    "\n",
    "# Set the width of the bars\n",
    "bar_width = 0.25\n",
    "\n",
    "# Set the positions of the bars on the x-axis\n",
    "r1 = np.arange(len(semester_sales_2010))\n",
    "r2 = [x + bar_width for x in r1]\n",
    "r3 = [x + bar_width for x in r2]\n",
    "\n",
    "# Plotting\n",
    "plt.figure(figsize=(12, 6))\n",
    "plt.bar(r1, semester_sales_2010 / 1000000, color='skyblue', width=bar_width, edgecolor='black', label='2010')\n",
    "plt.bar(r2, semester_sales_2011 / 1000000, color='salmon', width=bar_width, edgecolor='black', label='2011')\n",
    "plt.bar(r3, semester_sales_2012 / 1000000, color='lightgreen', width=bar_width, edgecolor='black', label='2012')\n",
    "\n",
    "# Add xticks on the middle of the group bars\n",
    "plt.xlabel('Semesters')\n",
    "plt.xticks([r + bar_width for r in range(2)], ['First Semester','Second Semester'])\n",
    "\n",
    "plt.ylabel('Semester Sales in Millions')\n",
    "plt.title('Semester Sales Comparison (2010-2012)')\n",
    "plt.legend()\n",
    "\n",
    "plt.show()"
   ]
  },
  {
   "cell_type": "markdown",
   "id": "8e9c1575-43c9-44d3-8564-7a9017f45356",
   "metadata": {},
   "source": [
    "Sales peak in Summer and December, possibly due to Walmart's selling popular seasonal items or increased consumer spending during these periods of the year."
   ]
  },
  {
   "cell_type": "markdown",
   "id": "f4192a93-ebdb-49e5-bf94-ed23303e300c",
   "metadata": {},
   "source": [
    "e)\tPlot the relations between weekly sales vs. other numeric features and give insights."
   ]
  },
  {
   "cell_type": "code",
   "execution_count": null,
   "id": "3d198e5f-966d-4e1c-a4e8-242a4052d2a4",
   "metadata": {},
   "outputs": [],
   "source": [
    "# Plotting the relationships\n",
    "numeric_features = ['Temperature', 'Fuel_Price', 'CPI', 'Unemployment']\n",
    "\n",
    "for feature in numeric_features:\n",
    "    plt.figure(figsize=(8, 6))\n",
    "    plt.bar(data[feature], data['Weekly_Sales']/1000000, color='teal')\n",
    "    plt.title(f'{feature} vs Weekly Sales')\n",
    "    plt.xlabel(feature)\n",
    "    plt.ylabel('Weekly Sales in Millions')\n",
    "    plt.grid(True)\n",
    "    plt.show()"
   ]
  },
  {
   "cell_type": "markdown",
   "id": "063a81b5-f8d8-4dcf-b40c-03aa1bd2f88c",
   "metadata": {},
   "source": [
    "Temprature: Sales are higher during good weather (20 to 80 Fahrenhei) and lower during bad weather (less than 20 or higher than 80 Fahrenheit)\n",
    "Optimal Range: 20 to 60 Fahrenheit.\n",
    "\n",
    "Fuel Price: As the Fuel Price increases from 2.0 to around 3.5 the Sales also increase but start to decrease again afterwards.\n",
    "Optimal Range: 3.0 to 3.5\n",
    "\n",
    "Consumer Price Index (CPI): No correlation.\n",
    "\n",
    "Unemployment: As the Unemployment Rates increases from 4 to  9 and starts decreasing afterwards.\n",
    "Optimal Range: 6 to 9"
   ]
  }
 ],
 "metadata": {
  "kernelspec": {
   "display_name": "Python 3 (ipykernel)",
   "language": "python",
   "name": "python3"
  },
  "language_info": {
   "codemirror_mode": {
    "name": "ipython",
    "version": 3
   },
   "file_extension": ".py",
   "mimetype": "text/x-python",
   "name": "python",
   "nbconvert_exporter": "python",
   "pygments_lexer": "ipython3",
   "version": "3.12.0"
  }
 },
 "nbformat": 4,
 "nbformat_minor": 5
}
